{
 "cells": [
  {
   "cell_type": "markdown",
   "id": "73d4113e",
   "metadata": {},
   "source": [
    "# CC-RICD\n",
    "\n",
    "## Introduction\n",
    "\n",
    "The electron-repulsion integral (ERI) in atomic orbital basis is a four-index tensor:\n",
    "\n",
    "$$\n",
    "(\\mu\\nu|\\lambda\\sigma) = \\int \\chi_\\mu(\\mathbf{r}_1) \\chi_\\nu(\\mathbf{r}_1) \\frac{1}{r_{12}} \\chi_\\lambda(\\mathbf{r}_2) \\chi_\\sigma(\\mathbf{r}_2) d\\mathbf{r}_1 d\\mathbf{r}_2\n",
    "$$\n",
    "\n",
    "The structure of ERI is sparse, and therefore a linear expansion over the products of particular one-electron functions, such as $\\chi_\\mu(\\mathbf{r}_1) \\chi_\\nu(\\mathbf{r}_1)$, is able to representing the \"densities\". The resolution-of-identity (RI) method is also called the density-fitting (DF) method.\n",
    " For both RI and Cholesky decomposition (CD) methods, the ERI is approximated by the following form:\n",
    "\n",
    "$$\n",
    "(\\mu\\nu|\\lambda\\sigma) \\approx \\sum_{P=1}^MB^P_{\\mu\\nu}B^P_{\\lambda\\sigma} \n",
    "$$\n",
    "\n",
    "where $M$ is the rank of the decomposition, which depends on the target accuracy. RI and CD methods uses different decomposition matrices $B^P_{\\mu\\nu}$. The RI method uses the auxiliary basis set, while the CD method uses the Cholesky decomposition of the ERI tensor.\n",
    "\n",
    "For RI method, it expands product densities $(\\mu\\nu|$ in an auxiliary basis set:\n",
    "\n",
    "$$\n",
    "(\\mu\\nu|\\lambda\\sigma) \\approx\\sum_{PQ}C^P_{\\mu\\nu}(P|Q)C^Q_{\\lambda\\sigma}\\equiv\\sum_{PQ}(\\mu\\nu|P)(P|Q)^{-1}(Q|\\lambda\\sigma)\n",
    "$$\n",
    "\n",
    "Indices P and Q denote auxiliary basis functions, and the $(P|Q)$ is the metric tensor:\n",
    "\n",
    "$$\n",
    "(P|Q) = \\int \\frac{P(\\mathbf{r}_1)Q(\\mathbf{r}_2)}{r_{12}}d\\mathbf{r}_1\\mathbf{r}_2\n",
    "$$\n",
    "\n",
    "The auxiliary basis expansion coefficients $C^L_{\\mu\\nu}$ are obtained by minimizing the difference between the actual and fitted product densities, leading to the following set of linear equations:\n",
    "\n",
    "$$\n",
    "\\sum_{L}(K|L)C^{L}_{\\mu\\nu} = (K|\\mu\\nu)\n",
    "$$\n",
    "\n",
    "We define new auxiliary basis coefficients $B^K_{\\mu\\nu}$:\n",
    "\n",
    "$$\n",
    "B^K_{\\mu\\nu} \\equiv \\sum_{L}C^{L}_{\\mu\\nu}(L|K)^{1/2} = \\sum_L (K|\\mu\\nu)(K|L)^{-1/2}\n",
    "$$\n",
    "\n"
   ]
  }
 ],
 "metadata": {
  "kernelspec": {
   "display_name": "Python 3 (ipykernel)",
   "language": "python",
   "name": "python3"
  },
  "language_info": {
   "codemirror_mode": {
    "name": "ipython",
    "version": 3
   },
   "file_extension": ".py",
   "mimetype": "text/x-python",
   "name": "python",
   "nbconvert_exporter": "python",
   "pygments_lexer": "ipython3",
   "version": "3.11.4"
  }
 },
 "nbformat": 4,
 "nbformat_minor": 5
}
