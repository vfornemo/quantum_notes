{
 "cells": [
  {
   "cell_type": "markdown",
   "id": "73d4113e",
   "metadata": {},
   "source": [
    "# Notation\n",
    "\n",
    "## Dirac Notation\n",
    "One electron integrals\n",
    "$$\n",
    "\\langle p | \\hat{h} | q \\rangle = \\int \\phi^*_p(\\mathbf{r}) \\hat{h} \\phi_q(\\mathbf{r}) d\\mathbf{r}\n",
    "$$\n",
    "\n",
    "Dirac notation for two electron integrals\n",
    "$$\n",
    "\\langle pq | rs \\rangle = \\int \\phi^*_p(\\mathbf{r}_1) \\phi^*_q(\\mathbf{r}_2) \\frac{1}{r_{12}} \\phi_r(\\mathbf{r}_1) \\phi_s(\\mathbf{r}_2) d\\mathbf{r}_1 d\\mathbf{r}_2\n",
    "$$\n",
    "\n",
    "Mulliken notation\n",
    "\n",
    "$$\n",
    "\\left(pr|qs\\right) = \\int \\phi^*_p(\\mathbf{r}_1)\\phi_r(\\mathbf{r}_1) \\frac{1}{r_{12}}  \\phi^*_q(\\mathbf{r}_2) \\phi_s(\\mathbf{r}_2) d\\mathbf{r}_1 d\\mathbf{r}_2\n",
    "$$\n",
    "\n",
    "ERI\n",
    "$$\n",
    "\\langle pq||rs \\rangle = \\langle pq | rs \\rangle - \\langle pq | sr \\rangle = \\left(pr|qs\\right) - \\left(ps|qr\\right)\n",
    "$$\n",
    "\n",
    "## CC Notation\n",
    "\n",
    "### Normal order\n",
    "\n",
    "Normal ordered string\n",
    "$$\n",
    "\\{a^\\dagger_p a_q\\}\n",
    "$$\n",
    "\n",
    "Examples:\n",
    "$$\n",
    "\\begin{aligned}\n",
    "& \\{a^\\dagger_p a_q\\} = a^\\dagger_p a_q \\\\\n",
    "& \\{a_q a^\\dagger_p\\} = -a^\\dagger_p a_q \\\\\n",
    "& \\{a^\\dagger_p a^\\dagger_q a_r a_s\\} = a^\\dagger_p a^\\dagger_q a_r a_s \\\\\n",
    "& \\{a^\\dagger_p  a_sa^\\dagger_q a_r\\} = -a^\\dagger_p a^\\dagger_q a_r a_s = a^\\dagger_p a^\\dagger_q a_s a_r \\\\\n",
    "\\end{aligned}\n",
    "$$\n",
    "\n",
    "Determinant\n",
    "\n",
    "$$\n",
    "|\\Phi_0\\rangle = a^\\dagger_p a_q |0\\rangle\n",
    "$$\n"
   ]
  }
 ],
 "metadata": {
  "kernelspec": {
   "display_name": "Python 3 (ipykernel)",
   "language": "python",
   "name": "python3"
  },
  "language_info": {
   "codemirror_mode": {
    "name": "ipython",
    "version": 3
   },
   "file_extension": ".py",
   "mimetype": "text/x-python",
   "name": "python",
   "nbconvert_exporter": "python",
   "pygments_lexer": "ipython3",
   "version": "3.11.4"
  }
 },
 "nbformat": 4,
 "nbformat_minor": 5
}
